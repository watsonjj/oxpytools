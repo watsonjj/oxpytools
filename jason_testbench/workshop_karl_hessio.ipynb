{
 "cells": [
  {
   "cell_type": "code",
   "execution_count": 1,
   "metadata": {
    "collapsed": false
   },
   "outputs": [
    {
     "name": "stdout",
     "output_type": "stream",
     "text": [
      "INFO: [file] /Users/Jason/Software/ctapipe/ctapipe-extra/datasets/gamma_test.simtel.gz [ctapipe.io.files]\n",
      "INFO: [file][origin] hessio [ctapipe.io.files]\n",
      "INFO: [integration_lwt] 0 [ctapipe.calib.camera.calibrators]\n",
      "INFO: [integrator] local_peak_integration [ctapipe.calib.camera.calibrators]\n",
      "INFO: [integration_window] [7, 3] [ctapipe.calib.camera.calibrators]\n",
      "INFO: [integration_calib_scale] 0.92 [ctapipe.calib.camera.calibrators]\n",
      "INFO: [integration_sigamp] [2, 4] [ctapipe.calib.camera.calibrators]\n",
      "INFO: [integration_clip_amp] None [ctapipe.calib.camera.calibrators]\n"
     ]
    }
   ],
   "source": [
    "%matplotlib inline\n",
    "\n",
    "from ctapipe.calib.camera.calibrators import calibration_parameters\n",
    "from ctapipe.calib.camera.calibrators import calibrate_event\n",
    "from ctapipe.utils.datasets import get_path\n",
    "from ctapipe.io.files import InputFile\n",
    "from ctapipe.io import CameraGeometry\n",
    "from ctapipe.visualization import CameraDisplay\n",
    "from matplotlib import pyplot as plt\n",
    "\n",
    "origin = 'hessio'\n",
    "filepath = get_path('gamma_test.simtel.gz')\n",
    "file = InputFile(filepath, origin)\n",
    "cmdline = ['--integrator','4']\n",
    "params, unknown_args = calibration_parameters(cmdline, origin, False)"
   ]
  },
  {
   "cell_type": "code",
   "execution_count": 16,
   "metadata": {
    "collapsed": false
   },
   "outputs": [
    {
     "name": "stdout",
     "output_type": "stream",
     "text": [
      "first 0 0\n",
      "first address 0x100214850\n",
      "first adc 19\n",
      "first adc address 0x111b72e28\n",
      "first_calib 0 0\n",
      "first 1 0\n",
      "first address 0x100214870\n",
      "first adc 19\n",
      "first adc address 0x111b72e28\n",
      "second 1 1\n",
      "first_calib 0 0\n",
      "first 1 0\n",
      "second 1 1\n",
      "first_calib 0 0\n",
      "second_calib 1 1\n"
     ]
    },
    {
     "name": "stderr",
     "output_type": "stream",
     "text": [
      "WARNING: ErfaWarning: ERFA function \"taiutc\" yielded 1 of \"dubious year (Note 4)\" [astropy._erfa.core]\n"
     ]
    }
   ],
   "source": [
    "source = file.read()\n",
    "first = next(source)\n",
    "first_calib = calibrate_event(first, params)\n",
    "print('first', first.count, 0)\n",
    "print('first address', hex(id(first.count)))\n",
    "data = first.dl0.tel[38].adc_samples[0][0][0]\n",
    "print('first adc', data)\n",
    "print('first adc address', hex(id(data)))\n",
    "print('first_calib', first_calib.count, 0)\n",
    "\n",
    "second = next(source)\n",
    "print('first', first.count, 0)\n",
    "print('first address', hex(id(first.count)))\n",
    "print('first adc', data)\n",
    "print('first adc address', hex(id(data)))\n",
    "print('second', second.count, 1)\n",
    "print('first_calib', first_calib.count, 0)\n",
    "\n",
    "second_calib = calibrate_event(second, params)\n",
    "print('first', first.count, 0)\n",
    "print('second', second.count, 1)\n",
    "print('first_calib', first_calib.count, 0)\n",
    "print('second_calib', second_calib.count, 1)\n"
   ]
  },
  {
   "cell_type": "markdown",
   "metadata": {},
   "source": [
    "new, copy:\n",
    "first 0 0\n",
    "first_calib 0 0\n",
    "first 1 0\n",
    "second 1 1\n",
    "first_calib 0 0\n",
    "first 1 0\n",
    "second 1 1\n",
    "first_calib 0 0\n",
    "second_calib 1 1\n",
    "\n",
    "new, deepcopy:\n",
    "first 0 0\n",
    "first_calib 0 0\n",
    "first 1 0\n",
    "second 1 1\n",
    "first_calib 0 0\n",
    "first 1 0\n",
    "second 1 1\n",
    "first_calib 0 0\n",
    "second_calib 1 1\n",
    "\n",
    "old:\n",
    "first 0 0\n",
    "first_calib 0 0\n",
    "first 0 0\n",
    "second 1 1\n",
    "first_calib 0 0\n",
    "first 0 0\n",
    "second 1 1\n",
    "first_calib 0 0\n",
    "second_calib 1 1\n"
   ]
  },
  {
   "cell_type": "code",
   "execution_count": 3,
   "metadata": {
    "collapsed": false
   },
   "outputs": [
    {
     "name": "stdout",
     "output_type": "stream",
     "text": [
      "INFO: [file][read] Finding event index 0... [ctapipe.io.files]\n",
      "INFO: [file] Event 0 found [ctapipe.io.files]\n",
      "first 0 0\n",
      "first_calib 0 0\n",
      "INFO: [file][read] Finding event index 1... [ctapipe.io.files]\n"
     ]
    },
    {
     "name": "stderr",
     "output_type": "stream",
     "text": [
      "WARNING: ErfaWarning: ERFA function \"taiutc\" yielded 1 of \"dubious year (Note 4)\" [astropy._erfa.core]\n"
     ]
    },
    {
     "name": "stdout",
     "output_type": "stream",
     "text": [
      "INFO: [file] Event 1 found [ctapipe.io.files]\n",
      "first 0 0\n",
      "second 1 1\n",
      "first_calib 0 0\n",
      "first 0 0\n",
      "second 1 1\n",
      "first_calib 0 0\n",
      "second_calib 1 1\n"
     ]
    }
   ],
   "source": [
    "first = file.get_event(0)\n",
    "first_calib = calibrate_event(first, params)\n",
    "print('first', first.count, 0)\n",
    "print('first_calib', first_calib.count, 0)\n",
    "\n",
    "second = file.get_event(1)\n",
    "print('first', first.count, 0)\n",
    "print('second', second.count, 1)\n",
    "print('first_calib', first_calib.count, 0)\n",
    "\n",
    "second_calib = calibrate_event(second, params)\n",
    "print('first', first.count, 0)\n",
    "print('second', second.count, 1)\n",
    "print('first_calib', first_calib.count, 0)\n",
    "print('second_calib', second_calib.count, 1)"
   ]
  },
  {
   "cell_type": "code",
   "execution_count": null,
   "metadata": {
    "collapsed": true
   },
   "outputs": [],
   "source": []
  }
 ],
 "metadata": {
  "anaconda-cloud": {},
  "kernelspec": {
   "display_name": "Python [default]",
   "language": "python",
   "name": "python3"
  },
  "language_info": {
   "codemirror_mode": {
    "name": "ipython",
    "version": 3
   },
   "file_extension": ".py",
   "mimetype": "text/x-python",
   "name": "python",
   "nbconvert_exporter": "python",
   "pygments_lexer": "ipython3",
   "version": "3.5.2"
  }
 },
 "nbformat": 4,
 "nbformat_minor": 0
}
