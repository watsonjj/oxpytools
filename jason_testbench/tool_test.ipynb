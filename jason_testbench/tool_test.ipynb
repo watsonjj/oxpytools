{
 "cells": [
  {
   "cell_type": "code",
   "execution_count": 1,
   "metadata": {
    "collapsed": false
   },
   "outputs": [],
   "source": [
    "from ctapipe.core import Tool\n",
    "from traitlets import Dict, List, Integer\n",
    "from traitlets.config.loader import KVArgParseConfigLoader\n",
    "from traitlets.config.application import catch_config_error\n",
    "from ipython_genutils import py3compat\n",
    "from copy import deepcopy, copy\n",
    "\n",
    "from ctapipe.io.files import InputFile\n",
    "from ctapipe.io.hessio import hessio_event_source\n",
    "from ctapipe.utils.datasets import get_path\n",
    "from ctapipe.io import CameraGeometry\n",
    "from ctapipe.calib.camera.new_tool_proposal import FactoryTool\n",
    "import numpy as np\n",
    "\n",
    "from ctapipe.calib.camera.charge_extraction import ChargeExtractorFactory"
   ]
  },
  {
   "cell_type": "code",
   "execution_count": 2,
   "metadata": {
    "collapsed": false
   },
   "outputs": [
    {
     "name": "stderr",
     "output_type": "stream",
     "text": [
      "WARNING: ErfaWarning: ERFA function \"taiutc\" yielded 1 of \"dubious year (Note 4)\" [astropy._erfa.core]\n"
     ]
    }
   ],
   "source": [
    "def get_test_parameters():\n",
    "    parameters = {\"integrator\": \"nb_peak_integration\",\n",
    "                  \"integration_window\": [7, 3],\n",
    "                  \"integration_sigamp\": [2, 4],\n",
    "                  \"integration_lwt\": 0}\n",
    "    return parameters\n",
    "\n",
    "\n",
    "def get_test_event():\n",
    "    filename = get_path('gamma_test.simtel.gz')\n",
    "    for event in hessio_event_source(filename):\n",
    "        if event.dl0.event_id == 409:\n",
    "            return event\n",
    "\n",
    "telid = 11\n",
    "event = get_test_event()\n",
    "nsamples = event.dl0.tel[telid].num_samples\n",
    "data = np.array(list(event.dl0.tel[telid].adc_samples.values()))\n",
    "ped = event.dl0.tel[telid].pedestal\n",
    "data_ped = data - np.atleast_3d(ped / nsamples)\n",
    "data_ped = np.array([data_ped[0], data_ped[0]])\n",
    "\n",
    "pixel_pos = event.meta.pixel_pos[telid]\n",
    "optical_foclen = event.meta.optical_foclen[telid]\n",
    "\n",
    "geom = CameraGeometry.guess(*pixel_pos, optical_foclen)\n",
    "nei = geom.neighbors\n",
    "\n",
    "params = get_test_parameters()"
   ]
  },
  {
   "cell_type": "code",
   "execution_count": 3,
   "metadata": {
    "collapsed": false
   },
   "outputs": [],
   "source": [
    "class CalTool(FactoryTool):\n",
    "    name = \"mytool\"\n",
    "    description = \"do some things and stuff\"\n",
    "    \n",
    "    factories = Dict(dict(extractor=ChargeExtractorFactory))\n",
    "    classes = List([])\n",
    "    aliases = Dict(dict(extractor='ChargeExtractorFactory.extractor'))\n",
    "\n",
    "    def setup(self):\n",
    "        self.extractor_factory = self.factories['extractor'](config=self.config)\n",
    "        self.extractor = self.extractor_factory.get_product(data_ped, nei=[[2]], config=self.config)\n",
    "        pass\n",
    "        \n",
    "    def start(self):\n",
    "        print(self.classes)\n",
    "        print(self.extractor.window_width)\n",
    "        print(self.extractor.extract_charge())\n",
    "        #a = self.extractor(data_ped, None, config=self.config)\n",
    "        #print(a.window_width)\n",
    "        #print(self.products[0].window_width)\n",
    "\n",
    "    def finish(self):\n",
    "        print(\"fin\")\n",
    "        self.log.warning(\"Shutting down.\")"
   ]
  },
  {
   "cell_type": "code",
   "execution_count": 4,
   "metadata": {
    "collapsed": false
   },
   "outputs": [],
   "source": [
    "t = CalTool()"
   ]
  },
  {
   "cell_type": "code",
   "execution_count": 5,
   "metadata": {
    "collapsed": false
   },
   "outputs": [
    {
     "name": "stderr",
     "output_type": "stream",
     "text": [
      "    INFO [CalTool]: version 0.1.dev1027 [release=False] [githash=36793a8cede4ba19b49db4455f5aa089a121dc32]\n",
      "    INFO [CalTool]: Starting: mytool\n",
      " WARNING [CalTool]: Shutting down.\n"
     ]
    },
    {
     "name": "stdout",
     "output_type": "stream",
     "text": [
      "here\n",
      "here\n",
      "[<class '__main__.CalTool'>, <class 'ctapipe.calib.camera.charge_extraction.ChargeExtractorFactory'>, <class 'ctapipe.calib.camera.charge_extraction.LocalPeakIntegrator'>]\n",
      "10\n",
      "(masked_array(data =\n",
      " [[42 59 45 26 94 56 -39 39 156 -38 77 29 13 90 85 34 72 3 106 -31 108 90 94\n",
      "  -30 123 89 0 59 140 67 27 46 27 23 -50 126 158 94 12 164 -33 -12 37 153\n",
      "  98 95 8 40 -12 75 20 93 -61 59 16 -59 -19 -43 98 271 -37 26 87 140 23 104\n",
      "  3 55 98 114 87 85 36 40 -6 104 108 202 56 45 111 1 138 18 77 125 2 19 23\n",
      "  108 0 70 95 126 79 43 14 29 49 73]\n",
      " [42 59 45 26 94 56 -39 39 156 -38 77 29 13 90 85 34 72 3 106 -31 108 90 94\n",
      "  -30 123 89 0 59 140 67 27 46 27 23 -50 126 158 94 12 164 -33 -12 37 153\n",
      "  98 95 8 40 -12 75 20 93 -61 59 16 -59 -19 -43 98 271 -37 26 87 140 23 104\n",
      "  3 55 98 114 87 85 36 40 -6 104 108 202 56 45 111 1 138 18 77 125 2 19 23\n",
      "  108 0 70 95 126 79 43 14 29 49 73]],\n",
      "             mask =\n",
      " [[False False False ..., False False False]\n",
      " [False False False ..., False False False]],\n",
      "       fill_value = 999999)\n",
      ", array([[[False, False, False, ..., False, False, False],\n",
      "        [ True,  True,  True, ..., False, False, False],\n",
      "        [False, False, False, ...,  True,  True,  True],\n",
      "        ..., \n",
      "        [False, False,  True, ..., False, False, False],\n",
      "        [False, False, False, ..., False, False, False],\n",
      "        [False,  True,  True, ..., False, False, False]],\n",
      "\n",
      "       [[False, False, False, ..., False, False, False],\n",
      "        [ True,  True,  True, ..., False, False, False],\n",
      "        [False, False, False, ...,  True,  True,  True],\n",
      "        ..., \n",
      "        [False, False,  True, ..., False, False, False],\n",
      "        [False, False, False, ..., False, False, False],\n",
      "        [False,  True,  True, ..., False, False, False]]], dtype=bool), array([[13,  0, 23, ...,  5, 19,  4],\n",
      "       [13,  0, 23, ...,  5, 19,  4]]))\n",
      "fin\n"
     ]
    }
   ],
   "source": [
    "argv = ['--extractor','LocalPeakIntegrator', '--window_width', '10']\n",
    "t.run(argv)"
   ]
  },
  {
   "cell_type": "code",
   "execution_count": 6,
   "metadata": {
    "collapsed": false
   },
   "outputs": [
    {
     "name": "stdout",
     "output_type": "stream",
     "text": [
      "do some things and stuff\n",
      "\n",
      "Options\n",
      "-------\n",
      "\n",
      "Arguments that take values are actually convenience aliases to full\n",
      "Configurables, whose aliases are listed on the help line. For more information\n",
      "on full configurables, see '--help-all'.\n",
      "\n",
      "--extractor=<Unicode> (ChargeExtractorFactory.extractor)\n",
      "    Default: 'NeighbourPeakIntegrator'\n",
      "    Charge extraction scheme to use: ['Integrator', 'FullIntegrator',\n",
      "    'WindowIntegrator', 'SimpleIntegrator', 'PeakFindingIntegrator',\n",
      "    'GlobalPeakIntegrator', 'LocalPeakIntegrator', 'NeighbourPeakIntegrator']\n",
      "--sig_amp_cut_LG=<Int> (LocalPeakIntegrator.sig_amp_cut_LG)\n",
      "    Default: 4\n",
      "    Define the cut above which a sample is considered as significant for\n",
      "    PeakFinding in the LG channel\n",
      "--log-level=<Enum> (Application.log_level)\n",
      "    Default: 30\n",
      "    Choices: (0, 10, 20, 30, 40, 50, 'DEBUG', 'INFO', 'WARN', 'ERROR', 'CRITICAL')\n",
      "    Set the log level by value or name.\n",
      "--window_width=<Int> (LocalPeakIntegrator.window_width)\n",
      "    Default: 7\n",
      "    Define the width of the integration window\n",
      "--window_shift=<Int> (LocalPeakIntegrator.window_shift)\n",
      "    Default: 3\n",
      "    Define the shift of the integration window from the peakpos (peakpos - shift\n",
      "--sig_amp_cut_HG=<Int> (LocalPeakIntegrator.sig_amp_cut_HG)\n",
      "    Default: 2\n",
      "    Define the cut above which a sample is considered as significant for\n",
      "    PeakFinding in the HG channel\n",
      "--config=<Unicode> (Tool.config_file)\n",
      "    Default: ''\n",
      "    name of a configuration file with parameters to load in addition to command-\n",
      "    line parameters\n",
      "\n",
      "To see all available configurables, use `--help-all`\n",
      "\n"
     ]
    },
    {
     "ename": "SystemExit",
     "evalue": "0",
     "output_type": "error",
     "traceback": [
      "An exception has occurred, use %tb to see the full traceback.\n",
      "\u001b[0;31mSystemExit\u001b[0m\u001b[0;31m:\u001b[0m 0\n"
     ]
    },
    {
     "name": "stderr",
     "output_type": "stream",
     "text": [
      "/Users/Jason/anaconda3/envs/cta/lib/python3.5/site-packages/IPython/core/interactiveshell.py:2889: UserWarning: To exit: use 'exit', 'quit', or Ctrl-D.\n",
      "  warn(\"To exit: use 'exit', 'quit', or Ctrl-D.\", stacklevel=1)\n"
     ]
    }
   ],
   "source": [
    "argv = ['--extractor','LocalPeakIntegrator', '--window_width', '10', '--help']\n",
    "t.run(argv)"
   ]
  },
  {
   "cell_type": "code",
   "execution_count": null,
   "metadata": {
    "collapsed": true
   },
   "outputs": [],
   "source": []
  }
 ],
 "metadata": {
  "kernelspec": {
   "display_name": "Python 3",
   "language": "python",
   "name": "python3"
  },
  "language_info": {
   "codemirror_mode": {
    "name": "ipython",
    "version": 3
   },
   "file_extension": ".py",
   "mimetype": "text/x-python",
   "name": "python",
   "nbconvert_exporter": "python",
   "pygments_lexer": "ipython3",
   "version": "3.5.2"
  }
 },
 "nbformat": 4,
 "nbformat_minor": 1
}
